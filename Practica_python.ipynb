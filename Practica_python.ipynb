{
  "nbformat": 4,
  "nbformat_minor": 0,
  "metadata": {
    "colab": {
      "provenance": [],
      "authorship_tag": "ABX9TyP/FrJCaQm+08YeGUJCg/eg",
      "include_colab_link": true
    },
    "kernelspec": {
      "name": "python3",
      "display_name": "Python 3"
    },
    "language_info": {
      "name": "python"
    }
  },
  "cells": [
    {
      "cell_type": "markdown",
      "metadata": {
        "id": "view-in-github",
        "colab_type": "text"
      },
      "source": [
        "<a href=\"https://colab.research.google.com/github/LuisJLCKDWN/Ejercicios-Arduino/blob/main/Practica_python.ipynb\" target=\"_parent\"><img src=\"https://colab.research.google.com/assets/colab-badge.svg\" alt=\"Open In Colab\"/></a>"
      ]
    },
    {
      "cell_type": "markdown",
      "source": [
        "Primer Ejercicio /// Uso de Cadenas o Strings"
      ],
      "metadata": {
        "id": "YEbShMbZQ3_C"
      }
    },
    {
      "cell_type": "code",
      "source": [
        "def imprimir_nombre(usuario, cantidad):\n",
        "    for _ in range(cantidad):\n",
        "        print(usuario)\n",
        "\n",
        "# Ejemplo de uso:\n",
        "nombre = input(\"Ingrese su nombre: \")\n",
        "numero = int(input(\"Ingrese un número entero: \"))\n",
        "imprimir_nombre(nombre, numero)\n"
      ],
      "metadata": {
        "id": "cLBZu91jQ0y-"
      },
      "execution_count": null,
      "outputs": []
    },
    {
      "cell_type": "markdown",
      "source": [
        "Segundo Ejercicio\n"
      ],
      "metadata": {
        "id": "LA9nnVBUQ2_p"
      }
    },
    {
      "cell_type": "code",
      "source": [
        "def imprimir_nombres(nombre_completo):\n",
        "    # Convertir el nombre completo a minúsculas\n",
        "    nombre_minusculas = nombre_completo.lower()\n",
        "\n",
        "    # Convertir el nombre completo a mayúsculas\n",
        "    nombre_mayusculas = nombre_completo.upper()\n",
        "\n",
        "    # Convertir la primera letra de cada palabra a mayúscula\n",
        "    nombre_capitalizado = nombre_completo.title()\n",
        "\n",
        "    # Imprimir los nombres\n",
        "    print(\"Nombre en minúsculas:\", nombre_minusculas)\n",
        "    print(\"Nombre en mayúsculas:\", nombre_mayusculas)\n",
        "    print(\"Nombre capitalizado:\", nombre_capitalizado)\n",
        "\n",
        "# Ejemplo de uso:\n",
        "nombre_usuario = input(\"Ingrese su nombre completo: \")\n",
        "imprimir_nombres(nombre_usuario)\n"
      ],
      "metadata": {
        "colab": {
          "base_uri": "https://localhost:8080/"
        },
        "id": "LtF9XzCnRD8e",
        "outputId": "7e533e3e-b748-46f8-bef3-3c8ae0a324f3"
      },
      "execution_count": 2,
      "outputs": [
        {
          "output_type": "stream",
          "name": "stdout",
          "text": [
            "Ingrese su nombre completo: LuisJCB\n",
            "Nombre en minúsculas: luisjcb\n",
            "Nombre en mayúsculas: LUISJCB\n",
            "Nombre capitalizado: Luisjcb\n"
          ]
        }
      ]
    },
    {
      "cell_type": "markdown",
      "source": [
        "Tercer Ejercicio"
      ],
      "metadata": {
        "id": "E3DTLZ1cSQ34"
      }
    },
    {
      "cell_type": "code",
      "source": [
        "def contar_letras(nombre):\n",
        "    nombre_mayusculas = nombre.upper()\n",
        "    num_letras = len(nombre)\n",
        "    print(f\"{nombre_mayusculas} tiene {num_letras} letras.\")\n",
        "\n",
        "# Ejemplo de uso:\n",
        "nombre_usuario = input(\"Ingrese su nombre: \")\n",
        "contar_letras(nombre_usuario)\n"
      ],
      "metadata": {
        "colab": {
          "base_uri": "https://localhost:8080/"
        },
        "id": "jaAMWiS_SU8b",
        "outputId": "15a0e9b0-b640-4db3-b37e-935e1b3ff3b0"
      },
      "execution_count": 3,
      "outputs": [
        {
          "output_type": "stream",
          "name": "stdout",
          "text": [
            "Ingrese su nombre: LuisJ\n",
            "LUISJ tiene 5 letras.\n"
          ]
        }
      ]
    },
    {
      "cell_type": "markdown",
      "source": [
        "Cuarto Ejercicio"
      ],
      "metadata": {
        "id": "LI9vws6LSfz-"
      }
    },
    {
      "cell_type": "code",
      "source": [
        "def extraer_numero(numero_telefono):\n",
        "    # Dividir el número de teléfono en sus partes: prefijo, número y extensión\n",
        "    partes = numero_telefono.split(\"-\")\n",
        "\n",
        "    # Extraer el número sin el prefijo ni la extensión\n",
        "    numero_sin_prefijo_extension = partes[1]\n",
        "\n",
        "    # Mostrar el número sin el prefijo ni la extensión\n",
        "    print(\"Número de teléfono sin prefijo ni extensión:\", numero_sin_prefijo_extension)\n",
        "\n",
        "# Ejemplo de uso:\n",
        "telefono_empresa = \"+34-913724710-56\"\n",
        "extraer_numero(telefono_empresa)\n"
      ],
      "metadata": {
        "colab": {
          "base_uri": "https://localhost:8080/"
        },
        "id": "RDV9_N85Sh69",
        "outputId": "278b1109-be9d-4827-9c4e-c7c28bad2cbf"
      },
      "execution_count": 4,
      "outputs": [
        {
          "output_type": "stream",
          "name": "stdout",
          "text": [
            "Número de teléfono sin prefijo ni extensión: 913724710\n"
          ]
        }
      ]
    },
    {
      "cell_type": "markdown",
      "source": [
        "Quinto Ejercicio"
      ],
      "metadata": {
        "id": "EjAMf3XxTBZr"
      }
    },
    {
      "cell_type": "code",
      "source": [
        "def invertir_frase(frase):\n",
        "    frase_invertida = frase[::-1]\n",
        "    print(\"Frase invertida:\", frase_invertida)\n",
        "\n",
        "# Ejemplo de uso:\n",
        "frase_original = input(\"Ingrese una frase: \")\n",
        "invertir_frase(frase_original)\n"
      ],
      "metadata": {
        "colab": {
          "base_uri": "https://localhost:8080/"
        },
        "id": "d4UWsDq0THIq",
        "outputId": "34617d03-bcb1-4f3c-eca6-99e85a0fb429"
      },
      "execution_count": 5,
      "outputs": [
        {
          "output_type": "stream",
          "name": "stdout",
          "text": [
            "Ingrese una frase: Habia una vez\n",
            "Frase invertida: zev anu aibaH\n"
          ]
        }
      ]
    },
    {
      "cell_type": "markdown",
      "source": [
        "Ejercicio 1 /// Condicionales"
      ],
      "metadata": {
        "id": "eVmgXCyrTUj1"
      }
    },
    {
      "cell_type": "code",
      "source": [
        "def verificar_mayoria_edad(edad):\n",
        "    if edad >= 18:\n",
        "        print(\"La persona es mayor de edad.\")\n",
        "    else:\n",
        "        print(\"La persona no es mayor de edad.\")\n",
        "\n",
        "# Ejemplo de uso:\n",
        "edad = int(input(\"Ingrese su edad: \"))\n",
        "verificar_mayoria_edad(edad)\n"
      ],
      "metadata": {
        "colab": {
          "base_uri": "https://localhost:8080/"
        },
        "id": "oTC8xmUQTcgn",
        "outputId": "6b34da4e-2515-453f-a370-6fbe74d00351"
      },
      "execution_count": 6,
      "outputs": [
        {
          "output_type": "stream",
          "name": "stdout",
          "text": [
            "Ingrese su edad: 17\n",
            "La persona no es mayor de edad.\n"
          ]
        }
      ]
    },
    {
      "cell_type": "markdown",
      "source": [
        "Ejercicio 2"
      ],
      "metadata": {
        "id": "OI9r1r4yTyV0"
      }
    },
    {
      "cell_type": "code",
      "source": [
        "def verificar_contrasena(contrasena_guardada):\n",
        "    contrasena_usuario = input(\"Ingrese la contraseña: \")\n",
        "    if contrasena_usuario.lower() == contrasena_guardada.lower():\n",
        "        print(\"La contraseña coincide.\")\n",
        "    else:\n",
        "        print(\"La contraseña no coincide.\")\n",
        "\n",
        "# Ejemplo de uso:\n",
        "contrasena = \"Password123\"  # Contraseña guardada\n",
        "verificar_contrasena(contrasena)\n"
      ],
      "metadata": {
        "colab": {
          "base_uri": "https://localhost:8080/"
        },
        "id": "asYzXqRNT0CB",
        "outputId": "c9113a8f-7680-4eed-dac1-effee8ae26c5"
      },
      "execution_count": 8,
      "outputs": [
        {
          "output_type": "stream",
          "name": "stdout",
          "text": [
            "Ingrese la contraseña: Password123\n",
            "La contraseña coincide.\n"
          ]
        }
      ]
    },
    {
      "cell_type": "markdown",
      "source": [
        "Ejercicio 3"
      ],
      "metadata": {
        "id": "uSUAqSEbUFyp"
      }
    },
    {
      "cell_type": "code",
      "source": [
        "def tributar_impuesto():\n",
        "    edad = int(input(\"Ingrese su edad: \"))\n",
        "    ingresos = float(input(\"Ingrese sus ingresos mensuales en euros: \"))\n",
        "\n",
        "    if edad > 16 and ingresos >= 1000:\n",
        "        print(\"Debe tributar.\")\n",
        "    else:\n",
        "        print(\"No debe tributar.\")\n",
        "\n",
        "# Ejemplo de uso:\n",
        "tributar_impuesto()\n"
      ],
      "metadata": {
        "id": "rpQMbnGMUObu"
      },
      "execution_count": null,
      "outputs": []
    },
    {
      "cell_type": "markdown",
      "source": [
        "Ejercicio 4"
      ],
      "metadata": {
        "id": "M6JJZZlJUW6C"
      }
    },
    {
      "cell_type": "code",
      "source": [
        "def determinar_grupo(nombre, sexo):\n",
        "    if (sexo == 'mujer' and nombre[0].lower() < 'm') or (sexo == 'hombre' and nombre[0].lower() > 'n'):\n",
        "        grupo = 'A'\n",
        "    else:\n",
        "        grupo = 'B'\n",
        "    return grupo\n",
        "\n",
        "# Ejemplo de uso:\n",
        "nombre = input(\"Ingrese su nombre: \")\n",
        "sexo = input(\"Ingrese su sexo (mujer/hombre): \")\n",
        "\n",
        "grupo = determinar_grupo(nombre, sexo)\n",
        "print(\"Usted pertenece al grupo:\", grupo)\n"
      ],
      "metadata": {
        "id": "G3WMG_9jUYbQ"
      },
      "execution_count": null,
      "outputs": []
    },
    {
      "cell_type": "markdown",
      "source": [
        "Ejercicio 5"
      ],
      "metadata": {
        "id": "Rif2fLDYUtoh"
      }
    },
    {
      "cell_type": "code",
      "source": [
        "def determinar_nivel_puntuacion(puntuacion):\n",
        "    if puntuacion == 0.0:\n",
        "        nivel = \"Inaceptable\"\n",
        "    elif puntuacion == 0.4:\n",
        "        nivel = \"Aceptable\"\n",
        "    elif puntuacion >= 0.6:\n",
        "        nivel = \"Meritorio\"\n",
        "    else:\n",
        "        nivel = \"Puntuación no válida\"\n",
        "    return nivel\n",
        "\n",
        "def calcular_beneficios(puntuacion):\n",
        "    if puntuacion == 0.0:\n",
        "        beneficios = 0\n",
        "    else:\n",
        "        beneficios = 2400 * puntuacion\n",
        "    return beneficios\n",
        "\n",
        "# Ejemplo de uso:\n",
        "puntuacion = float(input(\"Ingrese la puntuación del empleado: \"))\n",
        "\n",
        "nivel = determinar_nivel_puntuacion(puntuacion)\n",
        "beneficios = calcular_beneficios(puntuacion)\n",
        "\n",
        "if nivel != \"Puntuación no válida\":\n",
        "    print(\"Nivel de rendimiento:\", nivel)\n",
        "    print(\"Cantidad de dinero recibida:\", beneficios, \"€\")\n",
        "else:\n",
        "    print(\"La puntuación ingresada no es válida.\")\n"
      ],
      "metadata": {
        "id": "HzK4lAUvUxU5"
      },
      "execution_count": null,
      "outputs": []
    },
    {
      "cell_type": "markdown",
      "source": [
        "Ejercicio 6"
      ],
      "metadata": {
        "id": "twb5uqWDU8j_"
      }
    },
    {
      "cell_type": "code",
      "source": [
        "def calcular_precio_entrada(edad):\n",
        "    if edad < 4:\n",
        "        precio = 0\n",
        "    elif 4 <= edad <= 18:\n",
        "        precio = 5\n",
        "    else:\n",
        "        precio = 10\n",
        "    return precio\n",
        "\n",
        "# Solicitar la edad al usuario\n",
        "edad_cliente = int(input(\"Ingrese la edad del cliente: \"))\n",
        "\n",
        "# Calcular el precio de entrada\n",
        "precio_entrada = calcular_precio_entrada(edad_cliente)\n",
        "\n",
        "# Mostrar el precio de entrada al usuario\n",
        "print(\"El precio de la entrada es:\", precio_entrada, \"€\")\n"
      ],
      "metadata": {
        "id": "yq7Pjsy3U_a1"
      },
      "execution_count": null,
      "outputs": []
    },
    {
      "cell_type": "markdown",
      "source": [
        "Ejercicio 7"
      ],
      "metadata": {
        "id": "Wxpj8bYgVHFZ"
      }
    },
    {
      "cell_type": "code",
      "source": [
        "def mostrar_menu():\n",
        "    print(\"Ingredientes disponibles:\")\n",
        "    print(\"1. Mozzarella\")\n",
        "    print(\"2. Tomate\")\n",
        "    print(\"3. Pimiento\")\n",
        "    print(\"4. Tofu\")\n",
        "    print(\"5. Peperoni\")\n",
        "    print(\"6. Jamón\")\n",
        "    print(\"7. Salmón\")\n",
        "\n",
        "def elegir_ingrediente():\n",
        "    opcion = int(input(\"Seleccione un ingrediente (1-7): \"))\n",
        "    while opcion < 1 or opcion > 7:\n",
        "        opcion = int(input(\"Seleccione un ingrediente válido (1-7): \"))\n",
        "    return opcion\n",
        "\n",
        "# Preguntar al usuario si quiere una pizza vegetariana o no\n",
        "tipo_pizza = input(\"¿Desea una pizza vegetariana? (sí/no): \")\n",
        "\n",
        "# Mostrar el menú de ingredientes disponibles\n",
        "mostrar_menu()\n",
        "\n",
        "# Elegir un ingrediente\n",
        "ingrediente = elegir_ingrediente()\n",
        "\n",
        "# Determinar si la pizza es vegetariana o no\n",
        "if tipo_pizza.lower() == \"sí\":\n",
        "    es_vegetariana = True\n",
        "    if ingrediente in [5, 6, 7]:  # Si elige un ingrediente no vegetariano\n",
        "        print(\"Una pizza vegetariana no puede contener ingredientes no vegetarianos.\")\n",
        "        es_vegetariana = False\n",
        "else:\n",
        "    es_vegetariana = False\n",
        "\n",
        "# Mostrar los ingredientes elegidos\n",
        "print(\"La pizza es vegetariana:\", es_vegetariana)\n",
        "print(\"Ingredientes:\")\n",
        "print(\"Mozzarella\")\n",
        "print(\"Tomate\")\n",
        "if ingrediente == 1:\n",
        "    print(\"Pimiento\")\n",
        "elif ingrediente == 2:\n",
        "    print(\"Tofu\")\n",
        "elif ingrediente == 3:\n",
        "    print(\"Peperoni\")\n",
        "elif ingrediente == 4:\n",
        "    print(\"Jamón\")\n",
        "else:\n",
        "    print(\"Salmón\")\n"
      ],
      "metadata": {
        "id": "xPN1bVOIVLcF"
      },
      "execution_count": null,
      "outputs": []
    },
    {
      "cell_type": "markdown",
      "source": [
        "Ejercicio 1 /// Ciclos"
      ],
      "metadata": {
        "id": "ah1g9jcnVuWG"
      }
    },
    {
      "cell_type": "code",
      "source": [
        "def calcular_capital(cantidad, interes_anual, años):\n",
        "    capital = cantidad\n",
        "    for año in range(1, años + 1):\n",
        "        capital += capital * (interes_anual / 100)\n",
        "        print(f\"Año {año}: {capital:.2f}\")\n",
        "\n",
        "# Solicitar los datos al usuario\n",
        "cantidad = float(input(\"Ingrese la cantidad a invertir: \"))\n",
        "interes_anual = float(input(\"Ingrese el interés anual (%): \"))\n",
        "años = int(input(\"Ingrese el número de años de la inversión: \"))\n",
        "\n",
        "# Calcular y mostrar el capital obtenido cada año\n",
        "calcular_capital(cantidad, interes_anual, años)\n"
      ],
      "metadata": {
        "id": "0s7pYAyZVwXf"
      },
      "execution_count": null,
      "outputs": []
    },
    {
      "cell_type": "markdown",
      "source": [
        "Ejercicio 2"
      ],
      "metadata": {
        "id": "1Hk0rON5WDSl"
      }
    },
    {
      "cell_type": "code",
      "source": [
        "def imprimir_triangulo_rectangulo_altura_altura(numero):\n",
        "    for i in range(1, numero + 1):\n",
        "        print('*' * i)\n",
        "\n",
        "# Solicitar al usuario que ingrese un número entero\n",
        "altura = int(input(\"Ingrese la altura del triángulo: \"))\n",
        "\n",
        "# Imprimir el triángulo rectángulo\n",
        "imprimir_triangulo_rectangulo_altura_altura(altura)\n"
      ],
      "metadata": {
        "colab": {
          "base_uri": "https://localhost:8080/"
        },
        "id": "2KZ0amYQWFH6",
        "outputId": "c342f21f-dec5-497a-dc5d-232a23109bee"
      },
      "execution_count": 10,
      "outputs": [
        {
          "output_type": "stream",
          "name": "stdout",
          "text": [
            "Ingrese la altura del triángulo: 5\n",
            "*\n",
            "**\n",
            "***\n",
            "****\n",
            "*****\n"
          ]
        }
      ]
    },
    {
      "cell_type": "markdown",
      "source": [
        "Ejercicio 3"
      ],
      "metadata": {
        "id": "M3ZaSmgaWQmu"
      }
    },
    {
      "cell_type": "code",
      "source": [
        "def imprimir_triangulo_rectangulo(numero):\n",
        "    for i in range(numero, 0, -2):\n",
        "        for j in range(i, numero + 1, 2):\n",
        "            print(j, end=' ')\n",
        "        print()\n",
        "\n",
        "# Solicitar al usuario que ingrese un número entero\n",
        "altura = int(input(\"Ingrese la altura del triángulo: \"))\n",
        "\n",
        "# Imprimir el triángulo rectángulo\n",
        "imprimir_triangulo_rectangulo(altura)\n"
      ],
      "metadata": {
        "id": "zKiBfqRfWSTa"
      },
      "execution_count": null,
      "outputs": []
    },
    {
      "cell_type": "markdown",
      "source": [
        "Ejercicio 4"
      ],
      "metadata": {
        "id": "Nr6RalHYWbyu"
      }
    },
    {
      "cell_type": "code",
      "source": [
        "def contar_letra_en_frase(frase, letra):\n",
        "    contador = 0\n",
        "    for caracter in frase:\n",
        "        if caracter == letra:\n",
        "            contador += 1\n",
        "    return contador\n",
        "\n",
        "# Solicitar al usuario que ingrese una frase y una letra\n",
        "frase = input(\"Ingrese una frase: \")\n",
        "letra = input(\"Ingrese una letra: \")\n",
        "\n",
        "# Contar el número de veces que aparece la letra en la frase\n",
        "numero_apariciones = contar_letra_en_frase(frase, letra)\n",
        "\n",
        "# Mostrar el resultado\n",
        "print(f\"La letra '{letra}' aparece {numero_apariciones} veces en la frase.\")\n"
      ],
      "metadata": {
        "id": "yWLzgUhjWdMF"
      },
      "execution_count": null,
      "outputs": []
    },
    {
      "cell_type": "markdown",
      "source": [
        "Ejercicio 5"
      ],
      "metadata": {
        "id": "NBtLMvUuWjO2"
      }
    },
    {
      "cell_type": "code",
      "source": [
        "def mostrar_letras_invertidas(palabra):\n",
        "    for letra in palabra[::-1]:\n",
        "        print(letra)\n",
        "\n",
        "# Solicitar al usuario que ingrese una palabra\n",
        "palabra = input(\"Ingrese una palabra: \")\n",
        "\n",
        "# Mostrar las letras de la palabra invertidas\n",
        "mostrar_letras_invertidas(palabra)\n"
      ],
      "metadata": {
        "id": "W2rhKokJWk_C"
      },
      "execution_count": null,
      "outputs": []
    },
    {
      "cell_type": "markdown",
      "source": [
        "Ejercicio 6"
      ],
      "metadata": {
        "id": "rjtIFQKlWqyI"
      }
    },
    {
      "cell_type": "code",
      "source": [
        "def main():\n",
        "    # Lista de asignaturas\n",
        "    asignaturas = ['Matemáticas', 'Física', 'Química', 'Historia', 'Lengua']\n",
        "    # Lista para almacenar las notas\n",
        "    notas = []\n",
        "\n",
        "    # Solicitar la nota de cada asignatura al usuario\n",
        "    for asignatura in asignaturas:\n",
        "        nota = float(input(f\"Ingrese la nota de {asignatura}: \"))\n",
        "        notas.append(nota)\n",
        "\n",
        "    # Mostrar las asignaturas y las notas correspondientes\n",
        "    for i in range(len(asignaturas)):\n",
        "        print(f\"En {asignaturas[i]} has sacado {notas[i]}\")\n",
        "\n",
        "if __name__ == \"__main__\":\n",
        "    main()\n"
      ],
      "metadata": {
        "id": "-t_aMuBNWsBs"
      },
      "execution_count": null,
      "outputs": []
    },
    {
      "cell_type": "markdown",
      "source": [
        "Ejercicio 7"
      ],
      "metadata": {
        "id": "5tUxzOt9WypC"
      }
    },
    {
      "cell_type": "code",
      "source": [
        "def main():\n",
        "    # Lista de asignaturas\n",
        "    asignaturas = ['Matemáticas', 'Física', 'Química', 'Historia', 'Lengua']\n",
        "    # Lista para almacenar las notas\n",
        "    notas = []\n",
        "\n",
        "    # Solicitar la nota de cada asignatura al usuario\n",
        "    for asignatura in asignaturas:\n",
        "        nota = float(input(f\"Ingrese la nota de {asignatura}: \"))\n",
        "        notas.append(nota)\n",
        "\n",
        "    # Eliminar las asignaturas aprobadas\n",
        "    asignaturas_por_repetir = []\n",
        "    for i in range(len(asignaturas)):\n",
        "        if notas[i] < 5:  # Si la nota es menor que 5, la asignatura se debe repetir\n",
        "            asignaturas_por_repetir.append(asignaturas[i])\n",
        "\n",
        "    # Mostrar las asignaturas que el usuario tiene que repetir\n",
        "    if asignaturas_por_repetir:\n",
        "        print(\"Debes repetir las siguientes asignaturas:\")\n",
        "        for asignatura in asignaturas_por_repetir:\n",
        "            print(asignatura)\n",
        "    else:\n",
        "        print(\"¡Felicidades! Has aprobado todas las asignaturas.\")\n",
        "\n",
        "if __name__ == \"__main__\":\n",
        "    main()\n"
      ],
      "metadata": {
        "id": "xuCvEA4HW0X4"
      },
      "execution_count": null,
      "outputs": []
    },
    {
      "cell_type": "markdown",
      "source": [
        "Ejercicio 8"
      ],
      "metadata": {
        "id": "i5_m1QqxW7bj"
      }
    },
    {
      "cell_type": "code",
      "source": [
        "def main():\n",
        "    # Diccionario con los créditos de las asignaturas\n",
        "    creditos_asignaturas = {'Matemáticas': 6, 'Física': 4, 'Química': 5}\n",
        "\n",
        "    # Mostrar los créditos de cada asignatura\n",
        "    for asignatura, creditos in creditos_asignaturas.items():\n",
        "        print(f\"{asignatura} tiene {creditos} créditos.\")\n",
        "\n",
        "    # Calcular el número total de créditos del curso\n",
        "    total_creditos = sum(creditos_asignaturas.values())\n",
        "    print(f\"El número total de créditos del curso es: {total_creditos}\")\n",
        "\n",
        "if __name__ == \"__main__\":\n",
        "    main()\n"
      ],
      "metadata": {
        "id": "csRA1IHSW_WN"
      },
      "execution_count": null,
      "outputs": []
    },
    {
      "cell_type": "markdown",
      "source": [
        "Ejercicio 1 /// Funciones"
      ],
      "metadata": {
        "id": "LwIB7UsOXFpn"
      }
    },
    {
      "cell_type": "code",
      "source": [
        "def calcular_total_factura(cantidad_sin_iva, porcentaje_iva=21):\n",
        "    total = cantidad_sin_iva + cantidad_sin_iva * (porcentaje_iva / 100)\n",
        "    return total\n",
        "\n",
        "# Ejemplos de uso:\n",
        "# Si se llama sin pasar el porcentaje de IVA, aplicará el 21% por defecto\n",
        "print(calcular_total_factura(100))  # Por defecto, aplicará el 21% de IVA\n",
        "\n",
        "# Si se especifica el porcentaje de IVA\n",
        "print(calcular_total_factura(100, 10))  # Aplicará el 10% de IVA\n"
      ],
      "metadata": {
        "id": "Tt0xhee_XTgs"
      },
      "execution_count": null,
      "outputs": []
    },
    {
      "cell_type": "markdown",
      "source": [
        "Ejercicio 2"
      ],
      "metadata": {
        "id": "Yw9aHLdvXUia"
      }
    },
    {
      "cell_type": "code",
      "source": [
        "def decimal_a_binario(numero):\n",
        "    if numero == 0:\n",
        "        return '0'\n",
        "    binario = ''\n",
        "    while numero > 0:\n",
        "        residuo = numero % 2\n",
        "        binario = str(residuo) + binario\n",
        "        numero = numero // 2\n",
        "    return binario\n",
        "\n",
        "def binario_a_decimal(binario):\n",
        "    decimal = 0\n",
        "    longitud = len(binario)\n",
        "    for i in range(longitud):\n",
        "        bit = int(binario[i])\n",
        "        potencia = longitud - i - 1\n",
        "        decimal += bit * (2 ** potencia)\n",
        "    return decimal\n",
        "\n",
        "# Ejemplos de uso:\n",
        "numero_decimal = 25\n",
        "print(f'El número binario de {numero_decimal} es: {decimal_a_binario(numero_decimal)}')\n",
        "\n",
        "numero_binario = '11001'\n",
        "print(f'El número decimal de {numero_binario} es: {binario_a_decimal(numero_binario)}')\n"
      ],
      "metadata": {
        "id": "gROHb-kQXX1h"
      },
      "execution_count": null,
      "outputs": []
    },
    {
      "cell_type": "markdown",
      "source": [
        "Ejercicio 3"
      ],
      "metadata": {
        "id": "9QKA94C2XrMg"
      }
    },
    {
      "cell_type": "code",
      "source": [
        "def contar_palabras(frase):\n",
        "    # Dividir la frase en palabras\n",
        "    palabras = frase.split()\n",
        "    # Crear un diccionario para almacenar la frecuencia de cada palabra\n",
        "    frecuencia_palabras = {}\n",
        "    for palabra in palabras:\n",
        "        frecuencia_palabras[palabra] = frecuencia_palabras.get(palabra, 0) + 1\n",
        "    return frecuencia_palabras\n",
        "\n",
        "def palabra_mas_repetida(frecuencia_palabras):\n",
        "    # Encontrar la palabra más repetida y su frecuencia\n",
        "    palabra_mas_repetida = max(frecuencia_palabras, key=frecuencia_palabras.get)\n",
        "    frecuencia = frecuencia_palabras[palabra_mas_repetida]\n",
        "    return (palabra_mas_repetida, frecuencia)\n",
        "\n",
        "# Ejemplo de uso:\n",
        "frase = \"hola mundo mundo hola hola hola\"\n",
        "frecuencia_palabras = contar_palabras(frase)\n",
        "print(\"Frecuencia de palabras:\", frecuencia_palabras)\n",
        "\n",
        "palabra, frecuencia = palabra_mas_repetida(frecuencia_palabras)\n",
        "print(\"Palabra más repetida:\", palabra)\n",
        "print(\"Frecuencia de la palabra más repetida:\", frecuencia)\n"
      ],
      "metadata": {
        "id": "mzVXZhHEYVSv"
      },
      "execution_count": null,
      "outputs": []
    }
  ]
}